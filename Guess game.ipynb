{
 "cells": [
  {
   "cell_type": "code",
   "execution_count": 1,
   "metadata": {},
   "outputs": [
    {
     "ename": "SyntaxError",
     "evalue": "invalid syntax (<ipython-input-1-0ba567a1f67b>, line 1)",
     "output_type": "error",
     "traceback": [
      "\u001b[1;36m  File \u001b[1;32m\"<ipython-input-1-0ba567a1f67b>\"\u001b[1;36m, line \u001b[1;32m1\u001b[0m\n\u001b[1;33m    Guessing game\u001b[0m\n\u001b[1;37m             ^\u001b[0m\n\u001b[1;31mSyntaxError\u001b[0m\u001b[1;31m:\u001b[0m invalid syntax\n"
     ]
    }
   ],
   "source": [
    "Guessing game\n",
    "1.using Random Module\n",
    "\n",
    "import random\n",
    "r_no=random.randrange(1,10)\n",
    "guess_no=int(input(\"Enter your Guess number: \"))\n",
    "correct=False\n",
    "print(\"Random Number is : \",r_no)\n",
    "​\n",
    "while not correct:\n",
    "    if r_no==guess_no:\n",
    "        correct=True\n",
    "        print(\"correct match\")\n",
    "    elif r_no>guess_no:\n",
    "        print(\"higher value\")\n",
    "        break\n",
    "    elif r_no<guess_no:\n",
    "        print(\"lower Value\")\n",
    "        break\n",
    "Enter your Guess number: 6\n",
    "Random Number is :  6\n",
    "correct match\n",
    "ATM Machine coding\n",
    "Using Loops anf if/else statement\n",
    "print(\"Welcome to My bank\")\n",
    "restart=('')\n",
    "chances=4\n",
    "balance=35000\n",
    "while chances>=0:\n",
    "    pin=int(input(\"Please enter your four digit pin\"))\n",
    "    if pin == 4567:\n",
    "        print(\"you entere your pin correctly\")\n",
    "        while restart not in ('n','No','N','no'):\n",
    "            print(\"Please press 1 for your balance\")\n",
    "            print(\"Please press 2 for your withdrowl\")\n",
    "            print(\"Please press 3 for your deposit\")\n",
    "            print(\"Please press 4 for your return card\")\n",
    "            option=int(input(\"what would like to choose\"))\n",
    "            if option ==1:\n",
    "                print('your balance in ',balance,'\\n')\n",
    "                restart=input(\"would you like to go back\")\n",
    "                if restart in ('n','No','N','no'):\n",
    "                    print(\"thank you for banking with us\")\n",
    "                    break\n",
    "            elif option==2:\n",
    "                option2=('y')\n",
    "                withdrowl=float(input('How much would you like to withdrow? \\n100rs/200rs/500rs/2000rs for other enter 1'))\n",
    "                if withdrowl in [100,200,500,2000]:\n",
    "                    balance=balance-withdrowl\n",
    "                    print('\\nYour balance in now Rs ',balance)\n",
    "                    restart=input('what would you like to do?')\n",
    "                    if restart in ('n','No','N','no'):\n",
    "                        print('Thank you for banking with us')\n",
    "                        break\n",
    "                elif withdrowl!=[100,200,500,2000]:\n",
    "                    print(\"invalid amount, Please re-try\\n\")\n",
    "                    restart=('y')\n",
    "                elif withdrowl==1:\n",
    "                    withdrowl=float(input('Enter Desired amount:'))\n",
    "            elif option==3:\n",
    "                deposit=float(input('How much would you like to deposit:'))\n",
    "                balance=balance +deposit\n",
    "                print(\"your balance is now Rs:\",balance)\n",
    "                restart=input('Would you like to go back?')\n",
    "                if restart in ('n','No','N','no'):\n",
    "                    print('Thank you fro banking with us')\n",
    "                    break\n",
    "                    \n",
    "            elif option==4:\n",
    "                print(\"please wait while your card is returned....\\n\")\n",
    "                print(\"thank you for banking with us\")\n",
    "                break\n",
    "            else:\n",
    "                print('Plkease enter a correct number..\\n')\n",
    "                restart =('y')\n",
    "    elif pin!=('4567'):\n",
    "        print('Please enter correct password')\n",
    "        chances=chances-1\n",
    "        if chances==0:\n",
    "            print('\\nNo More Tries, contact to customer desk support@mybank.co')\n",
    "            break\n",
    "​"
   ]
  },
  {
   "cell_type": "code",
   "execution_count": null,
   "metadata": {},
   "outputs": [],
   "source": [
    "numbr=int(input(\"enter a number:\"))\n",
    "\n",
    "count=0\n",
    "while count<10:\n",
    "    count+=1\n",
    "    num=numbr*count\n",
    "    print(num)"
   ]
  },
  {
   "cell_type": "code",
   "execution_count": 36,
   "metadata": {},
   "outputs": [],
   "source": [
    "x='Nitin '\n",
    "y=x *2"
   ]
  },
  {
   "cell_type": "code",
   "execution_count": 40,
   "metadata": {},
   "outputs": [
    {
     "data": {
      "text/plain": [
       "['Nitin', 'Nitin']"
      ]
     },
     "execution_count": 40,
     "metadata": {},
     "output_type": "execute_result"
    }
   ],
   "source": [
    "y.split()"
   ]
  },
  {
   "cell_type": "code",
   "execution_count": 25,
   "metadata": {},
   "outputs": [
    {
     "name": "stdout",
     "output_type": "stream",
     "text": [
      "['welcome', 'to', 'the', 'jungle']\n"
     ]
    }
   ],
   "source": [
    "txt = \"welcome to the jungle\"\n",
    "\n",
    "x = txt.split()\n",
    "\n",
    "print(x)\n",
    "\n",
    "\n",
    "\n"
   ]
  },
  {
   "cell_type": "code",
   "execution_count": 11,
   "metadata": {},
   "outputs": [
    {
     "name": "stdout",
     "output_type": "stream",
     "text": [
      "['apple', 'banana', 'cherry', 'orange']\n"
     ]
    }
   ],
   "source": [
    "txt = \"apple#banana#cherry#orange\"\n",
    "\n",
    "x = txt.split(\"#\")\n",
    "\n",
    "print(x)"
   ]
  },
  {
   "cell_type": "code",
   "execution_count": 41,
   "metadata": {},
   "outputs": [
    {
     "data": {
      "text/plain": [
       "'Nitin Nitin '"
      ]
     },
     "execution_count": 41,
     "metadata": {},
     "output_type": "execute_result"
    }
   ],
   "source": [
    "y"
   ]
  },
  {
   "cell_type": "code",
   "execution_count": 89,
   "metadata": {},
   "outputs": [],
   "source": [
    "import re\n",
    "x1=[\"My name is nitin\",\"Kuch bhi jo tumare dimaag m aa raha ho\"]"
   ]
  },
  {
   "cell_type": "code",
   "execution_count": 65,
   "metadata": {},
   "outputs": [
    {
     "data": {
      "text/plain": [
       "2"
      ]
     },
     "execution_count": 65,
     "metadata": {},
     "output_type": "execute_result"
    }
   ],
   "source": []
  },
  {
   "cell_type": "code",
   "execution_count": 86,
   "metadata": {},
   "outputs": [],
   "source": [
    "z=len(x1)\n",
    "    "
   ]
  },
  {
   "cell_type": "code",
   "execution_count": 87,
   "metadata": {},
   "outputs": [
    {
     "data": {
      "text/plain": [
       "2"
      ]
     },
     "execution_count": 87,
     "metadata": {},
     "output_type": "execute_result"
    }
   ],
   "source": [
    "z"
   ]
  },
  {
   "cell_type": "code",
   "execution_count": 81,
   "metadata": {},
   "outputs": [
    {
     "ename": "SyntaxError",
     "evalue": "'yield' outside function (<ipython-input-81-d3c00cbc5dbf>, line 6)",
     "output_type": "error",
     "traceback": [
      "\u001b[1;36m  File \u001b[1;32m\"<ipython-input-81-d3c00cbc5dbf>\"\u001b[1;36m, line \u001b[1;32m6\u001b[0m\n\u001b[1;33m    yield numb\u001b[0m\n\u001b[1;37m    ^\u001b[0m\n\u001b[1;31mSyntaxError\u001b[0m\u001b[1;31m:\u001b[0m 'yield' outside function\n"
     ]
    }
   ],
   "source": [
    "num=12\n",
    "i=0\n",
    "while i<10:\n",
    "    i+=1\n",
    "    numb=num*i\n",
    "    print(numb)\n",
    "    "
   ]
  },
  {
   "cell_type": "code",
   "execution_count": 82,
   "metadata": {},
   "outputs": [
    {
     "name": "stdout",
     "output_type": "stream",
     "text": [
      "*****\n",
      "*****\n",
      "*****\n",
      "*****\n",
      "*****\n"
     ]
    }
   ],
   "source": [
    "for i in range(0, 5):\n",
    "    for j in range(0, 5):\n",
    "        print(\"*\", end=\"\")\n",
    "    print()"
   ]
  },
  {
   "cell_type": "code",
   "execution_count": 107,
   "metadata": {},
   "outputs": [],
   "source": [
    "c=[1,2,3,4,5,6]"
   ]
  },
  {
   "cell_type": "code",
   "execution_count": 135,
   "metadata": {},
   "outputs": [
    {
     "name": "stdout",
     "output_type": "stream",
     "text": [
      "720\n",
      "5\n"
     ]
    }
   ],
   "source": [
    "k=1\n",
    "for i in c:\n",
    "    k=k*(i)\n",
    "print(k)\n",
    "print(i-1)"
   ]
  },
  {
   "cell_type": "code",
   "execution_count": null,
   "metadata": {},
   "outputs": [],
   "source": []
  }
 ],
 "metadata": {
  "kernelspec": {
   "display_name": "Python 3",
   "language": "python",
   "name": "python3"
  },
  "language_info": {
   "codemirror_mode": {
    "name": "ipython",
    "version": 3
   },
   "file_extension": ".py",
   "mimetype": "text/x-python",
   "name": "python",
   "nbconvert_exporter": "python",
   "pygments_lexer": "ipython3",
   "version": "3.8.5"
  }
 },
 "nbformat": 4,
 "nbformat_minor": 4
}
